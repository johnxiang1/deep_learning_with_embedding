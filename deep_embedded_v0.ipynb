{
 "cells": [
  {
   "cell_type": "code",
   "execution_count": 1,
   "metadata": {},
   "outputs": [],
   "source": [
    "#deep embedded model\n",
    "#Author John Xiang\n",
    "%load_ext autotime\n",
    "import pandas as pd\n",
    "import numpy as np\n",
    "import gc\n",
    "from sklearn.metrics import roc_auc_score\n",
    "\n",
    "from sklearn.preprocessing import LabelEncoder\n",
    "def process_lable_encoder(col, train_df):\n",
    "    le = LabelEncoder()\n",
    "    le.fit(np.hstack(train_df[col]))\n",
    "    train_df[col+str('_encoded')] = le.transform(train_df[col])\n",
    "    \n",
    "    #test_df[col] = le.transform(test_df[col])"
   ]
  },
  {
   "cell_type": "code",
   "execution_count": 2,
   "metadata": {},
   "outputs": [
    {
     "name": "stderr",
     "output_type": "stream",
     "text": [
      "C:\\Anaconda\\lib\\site-packages\\h5py\\__init__.py:36: FutureWarning: Conversion of the second argument of issubdtype from `float` to `np.floating` is deprecated. In future, it will be treated as `np.float64 == np.dtype(float).type`.\n",
      "  from ._conv import register_converters as _register_converters\n",
      "Using TensorFlow backend.\n",
      "C:\\Anaconda\\lib\\site-packages\\tensorflow\\python\\framework\\dtypes.py:523: FutureWarning: Passing (type, 1) or '1type' as a synonym of type is deprecated; in a future version of numpy, it will be understood as (type, (1,)) / '(1,)type'.\n",
      "  _np_qint8 = np.dtype([(\"qint8\", np.int8, 1)])\n",
      "C:\\Anaconda\\lib\\site-packages\\tensorflow\\python\\framework\\dtypes.py:524: FutureWarning: Passing (type, 1) or '1type' as a synonym of type is deprecated; in a future version of numpy, it will be understood as (type, (1,)) / '(1,)type'.\n",
      "  _np_quint8 = np.dtype([(\"quint8\", np.uint8, 1)])\n",
      "C:\\Anaconda\\lib\\site-packages\\tensorflow\\python\\framework\\dtypes.py:525: FutureWarning: Passing (type, 1) or '1type' as a synonym of type is deprecated; in a future version of numpy, it will be understood as (type, (1,)) / '(1,)type'.\n",
      "  _np_qint16 = np.dtype([(\"qint16\", np.int16, 1)])\n",
      "C:\\Anaconda\\lib\\site-packages\\tensorflow\\python\\framework\\dtypes.py:526: FutureWarning: Passing (type, 1) or '1type' as a synonym of type is deprecated; in a future version of numpy, it will be understood as (type, (1,)) / '(1,)type'.\n",
      "  _np_quint16 = np.dtype([(\"quint16\", np.uint16, 1)])\n",
      "C:\\Anaconda\\lib\\site-packages\\tensorflow\\python\\framework\\dtypes.py:527: FutureWarning: Passing (type, 1) or '1type' as a synonym of type is deprecated; in a future version of numpy, it will be understood as (type, (1,)) / '(1,)type'.\n",
      "  _np_qint32 = np.dtype([(\"qint32\", np.int32, 1)])\n",
      "C:\\Anaconda\\lib\\site-packages\\tensorflow\\python\\framework\\dtypes.py:532: FutureWarning: Passing (type, 1) or '1type' as a synonym of type is deprecated; in a future version of numpy, it will be understood as (type, (1,)) / '(1,)type'.\n",
      "  np_resource = np.dtype([(\"resource\", np.ubyte, 1)])\n"
     ]
    },
    {
     "name": "stdout",
     "output_type": "stream",
     "text": [
      "time: 2.63 s\n"
     ]
    }
   ],
   "source": [
    "import numpy as np\n",
    "import pandas as pd\n",
    "from sklearn.preprocessing import MinMaxScaler , StandardScaler\n",
    "\n",
    "from sklearn.experimental import enable_iterative_imputer\n",
    "from sklearn.impute import IterativeImputer\n",
    "\n",
    "from numpy import array\n",
    "from keras.preprocessing.text import one_hot\n",
    "from keras.preprocessing.sequence import pad_sequences\n",
    "from keras.models import Sequential , Model\n",
    "\n",
    "from keras.layers import Input , Dense  , Flatten , concatenate\n",
    "from keras.layers.embeddings import Embedding\n",
    "from keras.callbacks import EarlyStopping\n",
    "from keras import optimizers, regularizers, metrics\n",
    "from keras.optimizers import SGD, Adagrad , Adam"
   ]
  },
  {
   "cell_type": "code",
   "execution_count": 3,
   "metadata": {},
   "outputs": [
    {
     "name": "stdout",
     "output_type": "stream",
     "text": [
      "x_train load done\n",
      "y_train load done\n",
      "time: 36.8 s\n"
     ]
    }
   ],
   "source": [
    "from azure.datalake.store import core, lib, multithread\n",
    "import pandas as pd\n",
    "import pickle\n",
    "token = lib.auth(tenant_id = 'fd3cd373-5dc9-4f59-9826-3aa2dd40d354'\n",
    "               , username='John.xiang@inteliusanalytics.com'\n",
    "               , password='XIANGlan960719.')\n",
    "adl = core.AzureDLFileSystem(token, store_name='trugendatalake')\n",
    "with adl.open(('LeadGen/Raw/Silver/AUTO/Train_data/x_train.pkl'), 'rb') as f:\n",
    "    df = pickle.load(f)\n",
    "print('x_train load done')\n",
    "with adl.open(('LeadGen/Raw/Silver/AUTO/Train_data/y_train.pkl'), 'rb') as f:\n",
    "    target = pickle.load(f)\n",
    "print('y_train load done')\n",
    "pd.options.display.float_format = '{:,.2f}'.format"
   ]
  },
  {
   "cell_type": "code",
   "execution_count": 4,
   "metadata": {},
   "outputs": [
    {
     "data": {
      "text/plain": [
       "count   8,142,138.00\n",
       "mean          138.30\n",
       "std           285.85\n",
       "min        -1,325.45\n",
       "25%            15.00\n",
       "50%            36.00\n",
       "75%           145.00\n",
       "max        98,400.00\n",
       "Name: FULL_TERM_PREMIUM_COVERAGE, dtype: float64"
      ]
     },
     "execution_count": 4,
     "metadata": {},
     "output_type": "execute_result"
    },
    {
     "name": "stdout",
     "output_type": "stream",
     "text": [
      "time: 516 ms\n"
     ]
    }
   ],
   "source": [
    "target['FULL_TERM_PREMIUM_COVERAGE'].describe()"
   ]
  },
  {
   "cell_type": "code",
   "execution_count": 5,
   "metadata": {},
   "outputs": [
    {
     "name": "stdout",
     "output_type": "stream",
     "text": [
      "time: 1.58 s\n"
     ]
    }
   ],
   "source": [
    "train_df=pd.concat([df,target],axis =1)"
   ]
  },
  {
   "cell_type": "code",
   "execution_count": 6,
   "metadata": {},
   "outputs": [
    {
     "name": "stdout",
     "output_type": "stream",
     "text": [
      "time: 635 ms\n"
     ]
    }
   ],
   "source": [
    "num_cols = ['AGE_D1',\n",
    "           'DEDUCTIBLE_AMOUNT',\n",
    "           'DISTANCE_DRIVEN_ANNUALLY',\n",
    "           'LIMIT_1',\n",
    "           'VEHICLE_RATE_GROUP',\n",
    "           'DRIVING_AGE',\n",
    "           'VEHICLE_AGE',\n",
    "           'DRIVERS_NUM',\n",
    "           'FULL_TERM_PREMIUM_COVERAGE']\n",
    "\n",
    "#target = ['FULL_TERM_PREMIUM_COVERAGE']\n",
    "\n",
    "cat_cols = ['MULTICAR_DISCOUNT_INDICATOR',\n",
    " 'COVERAGE_CODE_AUTOMOBILE',\n",
    " 'COMPANY_CODE',\n",
    " 'POSTAL_CODE',\n",
    " 'VEHICLE_CODE1']\n",
    "\n",
    "for col in num_cols:\n",
    "    train_df[col] =pd.to_numeric(train_df[col],errors='coerce')"
   ]
  },
  {
   "cell_type": "code",
   "execution_count": 8,
   "metadata": {},
   "outputs": [
    {
     "name": "stdout",
     "output_type": "stream",
     "text": [
      "label gen done\n",
      "time: 3min 40s\n"
     ]
    }
   ],
   "source": [
    "for cols in cat_cols:\n",
    "    process_lable_encoder(cols,train_df)\n",
    "print(\"label gen done\")"
   ]
  },
  {
   "cell_type": "code",
   "execution_count": 14,
   "metadata": {},
   "outputs": [
    {
     "name": "stdout",
     "output_type": "stream",
     "text": [
      "time: 999 µs\n"
     ]
    }
   ],
   "source": [
    "encoded_cat_cols = [\"COVERAGE_CODE_AUTOMOBILE_encoded\",\n",
    "\"MULTICAR_DISCOUNT_INDICATOR_encoded\",\n",
    "\"VEHICLE_CODE1_encoded\",\n",
    "\"COMPANY_CODE_encoded\",\n",
    "\"POSTAL_CODE_encoded\"]"
   ]
  },
  {
   "cell_type": "code",
   "execution_count": 10,
   "metadata": {},
   "outputs": [
    {
     "data": {
      "text/html": [
       "<div>\n",
       "<style scoped>\n",
       "    .dataframe tbody tr th:only-of-type {\n",
       "        vertical-align: middle;\n",
       "    }\n",
       "\n",
       "    .dataframe tbody tr th {\n",
       "        vertical-align: top;\n",
       "    }\n",
       "\n",
       "    .dataframe thead th {\n",
       "        text-align: right;\n",
       "    }\n",
       "</style>\n",
       "<table border=\"1\" class=\"dataframe\">\n",
       "  <thead>\n",
       "    <tr style=\"text-align: right;\">\n",
       "      <th></th>\n",
       "      <th>count</th>\n",
       "      <th>colName</th>\n",
       "      <th>percent</th>\n",
       "    </tr>\n",
       "  </thead>\n",
       "  <tbody>\n",
       "    <tr>\n",
       "      <td>0</td>\n",
       "      <td>8142138</td>\n",
       "      <td>AGE_D1</td>\n",
       "      <td>1.00</td>\n",
       "    </tr>\n",
       "    <tr>\n",
       "      <td>10</td>\n",
       "      <td>8142138</td>\n",
       "      <td>VEHICLE_AGE</td>\n",
       "      <td>1.00</td>\n",
       "    </tr>\n",
       "    <tr>\n",
       "      <td>17</td>\n",
       "      <td>8142138</td>\n",
       "      <td>POSTAL_CODE_encoded</td>\n",
       "      <td>1.00</td>\n",
       "    </tr>\n",
       "    <tr>\n",
       "      <td>16</td>\n",
       "      <td>8142138</td>\n",
       "      <td>COMPANY_CODE_encoded</td>\n",
       "      <td>1.00</td>\n",
       "    </tr>\n",
       "    <tr>\n",
       "      <td>15</td>\n",
       "      <td>8142138</td>\n",
       "      <td>COVERAGE_CODE_AUTOMOBILE_encoded</td>\n",
       "      <td>1.00</td>\n",
       "    </tr>\n",
       "    <tr>\n",
       "      <td>14</td>\n",
       "      <td>8142138</td>\n",
       "      <td>MULTICAR_DISCOUNT_INDICATOR_encoded</td>\n",
       "      <td>1.00</td>\n",
       "    </tr>\n",
       "    <tr>\n",
       "      <td>13</td>\n",
       "      <td>8142138</td>\n",
       "      <td>FULL_TERM_PREMIUM_COVERAGE</td>\n",
       "      <td>1.00</td>\n",
       "    </tr>\n",
       "    <tr>\n",
       "      <td>12</td>\n",
       "      <td>8142138</td>\n",
       "      <td>DRIVERS_NUM</td>\n",
       "      <td>1.00</td>\n",
       "    </tr>\n",
       "    <tr>\n",
       "      <td>11</td>\n",
       "      <td>8142138</td>\n",
       "      <td>MULTICAR_DISCOUNT_INDICATOR</td>\n",
       "      <td>1.00</td>\n",
       "    </tr>\n",
       "    <tr>\n",
       "      <td>9</td>\n",
       "      <td>8142138</td>\n",
       "      <td>DRIVING_AGE</td>\n",
       "      <td>1.00</td>\n",
       "    </tr>\n",
       "    <tr>\n",
       "      <td>1</td>\n",
       "      <td>8142138</td>\n",
       "      <td>POSTAL_CODE</td>\n",
       "      <td>1.00</td>\n",
       "    </tr>\n",
       "    <tr>\n",
       "      <td>8</td>\n",
       "      <td>8142138</td>\n",
       "      <td>VEHICLE_RATE_GROUP</td>\n",
       "      <td>1.00</td>\n",
       "    </tr>\n",
       "    <tr>\n",
       "      <td>7</td>\n",
       "      <td>8142138</td>\n",
       "      <td>VEHICLE_CODE1</td>\n",
       "      <td>1.00</td>\n",
       "    </tr>\n",
       "    <tr>\n",
       "      <td>6</td>\n",
       "      <td>8142138</td>\n",
       "      <td>LIMIT_1</td>\n",
       "      <td>1.00</td>\n",
       "    </tr>\n",
       "    <tr>\n",
       "      <td>5</td>\n",
       "      <td>8142138</td>\n",
       "      <td>DISTANCE_DRIVEN_ANNUALLY</td>\n",
       "      <td>1.00</td>\n",
       "    </tr>\n",
       "    <tr>\n",
       "      <td>4</td>\n",
       "      <td>8142138</td>\n",
       "      <td>DEDUCTIBLE_AMOUNT</td>\n",
       "      <td>1.00</td>\n",
       "    </tr>\n",
       "    <tr>\n",
       "      <td>3</td>\n",
       "      <td>8142138</td>\n",
       "      <td>COVERAGE_CODE_AUTOMOBILE</td>\n",
       "      <td>1.00</td>\n",
       "    </tr>\n",
       "    <tr>\n",
       "      <td>2</td>\n",
       "      <td>8142138</td>\n",
       "      <td>COMPANY_CODE</td>\n",
       "      <td>1.00</td>\n",
       "    </tr>\n",
       "    <tr>\n",
       "      <td>18</td>\n",
       "      <td>8142138</td>\n",
       "      <td>VEHICLE_CODE1_encoded</td>\n",
       "      <td>1.00</td>\n",
       "    </tr>\n",
       "  </tbody>\n",
       "</table>\n",
       "</div>"
      ],
      "text/plain": [
       "      count                              colName  percent\n",
       "0   8142138                               AGE_D1     1.00\n",
       "10  8142138                          VEHICLE_AGE     1.00\n",
       "17  8142138                  POSTAL_CODE_encoded     1.00\n",
       "16  8142138                 COMPANY_CODE_encoded     1.00\n",
       "15  8142138     COVERAGE_CODE_AUTOMOBILE_encoded     1.00\n",
       "14  8142138  MULTICAR_DISCOUNT_INDICATOR_encoded     1.00\n",
       "13  8142138           FULL_TERM_PREMIUM_COVERAGE     1.00\n",
       "12  8142138                          DRIVERS_NUM     1.00\n",
       "11  8142138          MULTICAR_DISCOUNT_INDICATOR     1.00\n",
       "9   8142138                          DRIVING_AGE     1.00\n",
       "1   8142138                          POSTAL_CODE     1.00\n",
       "8   8142138                   VEHICLE_RATE_GROUP     1.00\n",
       "7   8142138                        VEHICLE_CODE1     1.00\n",
       "6   8142138                              LIMIT_1     1.00\n",
       "5   8142138             DISTANCE_DRIVEN_ANNUALLY     1.00\n",
       "4   8142138                    DEDUCTIBLE_AMOUNT     1.00\n",
       "3   8142138             COVERAGE_CODE_AUTOMOBILE     1.00\n",
       "2   8142138                         COMPANY_CODE     1.00\n",
       "18  8142138                VEHICLE_CODE1_encoded     1.00"
      ]
     },
     "execution_count": 10,
     "metadata": {},
     "output_type": "execute_result"
    },
    {
     "name": "stdout",
     "output_type": "stream",
     "text": [
      "time: 13.7 s\n"
     ]
    }
   ],
   "source": [
    "countDf = pd.DataFrame(columns = ['count'], data = train_df.count().values)\n",
    "countDf['colName'] = train_df.count().index\n",
    "countDf['percent'] = countDf['count']/len(train_df)\n",
    "countDf.sort_values('percent',ascending = False)"
   ]
  },
  {
   "cell_type": "code",
   "execution_count": 20,
   "metadata": {},
   "outputs": [
    {
     "name": "stdout",
     "output_type": "stream",
     "text": [
      "time: 11 ms\n"
     ]
    }
   ],
   "source": [
    "def col_completness(data , col): \n",
    "        print('{}, completness = {}'.format(col, 1-(data[col].isnull().values.sum()/data.shape[0])))\n",
    "\n",
    "        \n",
    "def embedding_cols(df , cols, replace = True,  missing_string = 'nan_nan'):\n",
    "    data = df.copy()\n",
    "    embed_Dic = {}\n",
    "    for col in cols: \n",
    "        print('{} is getting filled by integers'.format(col))\n",
    "        uniques , rng = data[col].unique().tolist() , list(range(len(data[col].unique())))\n",
    "        embed_dic = dict(zip(uniques , rng))\n",
    "        embed_dic['nan-nan'] =  len(rng) +10\n",
    "        if replace: \n",
    "            data.replace({col : embed_dic}, inplace = True)\n",
    "        data = data.astype({col: int})\n",
    "        embed_Dic[col] = embed_dic\n",
    "    return data , embed_Dic       \n",
    "\n",
    "\n",
    "\n",
    "def data_to_model_preparation( data , cat_cols , num_cols, shuffle = True): \n",
    "    if shuffle: \n",
    "        data = data.sample(frac=1).reset_index(drop=True)\n",
    "\n",
    "    X_cat , Xy_num = data.loc[:, cat_cols].values , data.loc[:, num_cols].values\n",
    "    #splt= int((data.shape[0]*train_split)//1)\n",
    "    \n",
    "    Xtrain_cat = X_cat[:,:]\n",
    "    #Xtrain_cat, Xtest_cat = X_cat[:splt,:], X_cat[splt:,:]\n",
    "    Xytrain_num = Xy_num[:,:]\n",
    "    #Xytrain_num, Xytest_num = Xy_num[:splt,:], Xy_num[splt:,:]\n",
    "\n",
    "\n",
    "    scaler = MinMaxScaler()\n",
    "#     scaler = StandardScaler()\n",
    "    scaler.fit(Xytrain_num)\n",
    "    print(scaler.fit(Xytrain_num))\n",
    "    Xytrain_num_scaled = scaler.transform(Xytrain_num)\n",
    "\n",
    "    Xtrain_num , ytrain  = Xytrain_num_scaled[:, :-1] , Xytrain_num_scaled[:, -1]\n",
    "    #Xtest_num , ytest  = Xytest_num_scaled[:, :-1] , Xytest_num_scaled[:, -1]\n",
    "    \n",
    "    ytrain.shape = (ytrain.shape[0] , 1)\n",
    "    #ytest.shape = (ytest.shape[0], 1)\n",
    "    if len(num_cols) == 1: \n",
    "        np.expand_dims(Xtrain_num, 1)\n",
    "        #np.expand_dims(Xtest_num, 1)\n",
    "    print('categoricalcolumns: ', cat_cols, '\\n')\n",
    "    print('Numerical columns: ', num_cols, '\\n')\n",
    "    print('Xtrain_cat.shape ={} , Xtrain_num.shape ={} , ytrain.shape ={} '.format(Xtrain_cat.shape , Xtrain_num.shape, ytrain.shape))\n",
    "    #print('Xtrain_cat.shape ={} , Xtest_cat.shape ={}, Xtrain_num.shape ={}, Xtest_num.shape ={} , ytrain.shape ={} , ytest.shape ={} '.format(Xtrain_cat.shape , Xtest_cat.shape, Xtrain_num.shape, Xtest_num.shape , ytrain.shape , ytest.shape))\n",
    "\n",
    "    return Xtrain_cat , Xtrain_num , ytrain  , scaler\n",
    "\n",
    "def model_statistics(model, Xtst, ytst, scaler):\n",
    "\n",
    "        mn  = scaler.mean_[-1] \n",
    "        scale  = scaler.scale_[-1] \n",
    "        \n",
    "        preds = model.predict(Xtst)*scale+mn\n",
    "        #preds = np.exp(preds*4)*y-0.9\n",
    "        yt = ytst.copy()\n",
    "        yt = yt*scale + mn\n",
    "        #yt = np.exp(yt*4)*y-0.9\n",
    "        yt.shape = (yt.shape[0], 1)\n",
    "        \n",
    "\n",
    "        mae = np.mean(np.abs(preds-yt))\n",
    "        r2 = 1- (np.mean(np.square(preds-yt))/np.var(yt))\n",
    "        indata_mae = np.mean(np.abs(yt-np.mean(yt)))\n",
    "        model_MSE = np.mean(np.square(preds-yt))\n",
    "        print('Model_MSE = {} ; target_VAR = {}'.format(model_MSE , np.var(yt)), '\\n')\n",
    "        print('inData_MAE = {} ; model_MAE = {} ; model_R_Square = {}'.format(indata_mae, mae, r2), '\\n')\n",
    "        return mae , r2 , indata_mae\n",
    "    \n",
    "def alpha(x):\n",
    "    return int((x**0.25)*3)"
   ]
  },
  {
   "cell_type": "code",
   "execution_count": 136,
   "metadata": {},
   "outputs": [
    {
     "name": "stdout",
     "output_type": "stream",
     "text": [
      "StandardScaler(copy=True, with_mean=True, with_std=True)\n",
      "time: 5.93 s\n"
     ]
    }
   ],
   "source": [
    "scaler = StandardScaler()\n",
    "scaler.fit(Xytrain_num)\n",
    "print(scaler.fit(Xytrain_num))\n",
    "#Xytrain_num_scaled = scaler.transform(Xytrain_num)"
   ]
  },
  {
   "cell_type": "code",
   "execution_count": null,
   "metadata": {},
   "outputs": [],
   "source": [
    "Xytrain_num"
   ]
  },
  {
   "cell_type": "code",
   "execution_count": 139,
   "metadata": {},
   "outputs": [
    {
     "name": "stdout",
     "output_type": "stream",
     "text": [
      "time: 7.68 s\n"
     ]
    }
   ],
   "source": [
    "f = open(r\"C:\\Users\\john.lan\\Desktop\\scaler.pkl\",\"wb\")\n",
    "pickle.dump(Xytrain_num,f)\n",
    "f.close()"
   ]
  },
  {
   "cell_type": "code",
   "execution_count": 22,
   "metadata": {},
   "outputs": [
    {
     "name": "stdout",
     "output_type": "stream",
     "text": [
      "AGE_D1 96\n",
      "POSTAL_CODE 179456\n",
      "COMPANY_CODE 55\n",
      "COVERAGE_CODE_AUTOMOBILE 125\n",
      "DEDUCTIBLE_AMOUNT 123\n",
      "DISTANCE_DRIVEN_ANNUALLY 814\n",
      "LIMIT_1 2018\n",
      "VEHICLE_CODE1 6772\n",
      "VEHICLE_RATE_GROUP 99\n",
      "DRIVING_AGE 90\n",
      "VEHICLE_AGE 107\n",
      "MULTICAR_DISCOUNT_INDICATOR 2\n",
      "DRIVERS_NUM 35\n",
      "COVERAGE_CODE_AUTOMOBILE_encoded 125\n",
      "MULTICAR_DISCOUNT_INDICATOR_encoded 2\n",
      "VEHICLE_CODE1_encoded 6772\n",
      "COMPANY_CODE_encoded 55\n",
      "POSTAL_CODE_encoded 179456\n",
      "time: 9.32 s\n"
     ]
    }
   ],
   "source": [
    "for col in df.columns:\n",
    "    print(col, len(df[col].unique()))"
   ]
  },
  {
   "cell_type": "code",
   "execution_count": 16,
   "metadata": {},
   "outputs": [
    {
     "name": "stdout",
     "output_type": "stream",
     "text": [
      "time: 779 ms\n"
     ]
    }
   ],
   "source": [
    "dim_dic = {col:alpha(len(train_df[col].unique())) for col in encoded_cat_cols}"
   ]
  },
  {
   "cell_type": "code",
   "execution_count": 17,
   "metadata": {},
   "outputs": [
    {
     "data": {
      "text/plain": [
       "{'COVERAGE_CODE_AUTOMOBILE_encoded': 10,\n",
       " 'MULTICAR_DISCOUNT_INDICATOR_encoded': 3,\n",
       " 'VEHICLE_CODE1_encoded': 27,\n",
       " 'COMPANY_CODE_encoded': 8,\n",
       " 'POSTAL_CODE_encoded': 61}"
      ]
     },
     "execution_count": 17,
     "metadata": {},
     "output_type": "execute_result"
    },
    {
     "name": "stdout",
     "output_type": "stream",
     "text": [
      "time: 3 ms\n"
     ]
    }
   ],
   "source": [
    "dim_dic"
   ]
  },
  {
   "cell_type": "code",
   "execution_count": 47,
   "metadata": {},
   "outputs": [
    {
     "data": {
      "text/plain": [
       "Index(['FULL_TERM_PREMIUM_COVERAGE'], dtype='object')"
      ]
     },
     "execution_count": 47,
     "metadata": {},
     "output_type": "execute_result"
    },
    {
     "name": "stdout",
     "output_type": "stream",
     "text": [
      "time: 4.03 ms\n"
     ]
    }
   ],
   "source": [
    "target.columns"
   ]
  },
  {
   "cell_type": "code",
   "execution_count": 48,
   "metadata": {},
   "outputs": [
    {
     "name": "stdout",
     "output_type": "stream",
     "text": [
      "time: 1.92 s\n"
     ]
    }
   ],
   "source": [
    "train_df = pd.concat([df,target],axis =1)"
   ]
  },
  {
   "cell_type": "code",
   "execution_count": 21,
   "metadata": {},
   "outputs": [
    {
     "name": "stdout",
     "output_type": "stream",
     "text": [
      "time: 1.09 s\n"
     ]
    }
   ],
   "source": [
    "from keras import backend as K\n",
    "vocab_size_dic = {}\n",
    "for col in encoded_cat_cols: \n",
    "    vocab_size_dic[col] = len(train_df[col].unique())+10\n",
    "    \n",
    "max_length = 1\n",
    "\n",
    "inputs_list = []\n",
    "aux_list = []\n",
    "\n",
    "for col in encoded_cat_cols: \n",
    "    \n",
    "        inputs_cat= Input(shape =(1,), name = 'inputs_'+col)\n",
    "        inputs_list.append(inputs_cat)\n",
    "        outputs_cat = Embedding(vocab_size_dic[col] , dim_dic[col], input_length=max_length, \n",
    "                                name = 'embedding_'+col)(inputs_cat)\n",
    "        flat = Flatten( name = 'flat_'+col)(outputs_cat)\n",
    "        aux_list.append(flat)\n",
    "        \n",
    "\n",
    "inputs_num = Input(shape= (len(num_cols)-1, ), name = 'inputs_num')\n",
    "\n",
    "model_inputs = inputs_list+[inputs_num]\n",
    "aux = aux_list + [inputs_num]      \n",
    "outputs = concatenate(aux)\n",
    "outputs = Dense(100, activation = 'tanh')(outputs)\n",
    "outputs = Dense(50, activation = 'tanh')(outputs)\n",
    "outputs = Dense(20, activation = 'tanh')(outputs)#change to relu, last dense change to sigmod\n",
    "outputs = Dense(5)(outputs)\n",
    "model_outputs = Dense(1)(outputs)\n",
    "\n",
    "model = Model(model_inputs  , model_outputs)\n",
    "\n",
    "sgd = SGD(lr=0.01)\n",
    "adagrad = Adagrad(lr=0.1, epsilon=1e-08, decay=0.0)\n",
    "adam = optimizers.Adam(lr=0.01, beta_1=0.9, beta_2=0.999, epsilon=None, decay=0.0, amsgrad=False)\n",
    "\n",
    "def r_square(y_true, y_pred):\n",
    "    var = K.var(y_true)\n",
    "    mse = K.mean(K.square(y_true - y_pred))\n",
    "    return (1-mse/var)\n",
    "model.compile(optimizer=adagrad, loss=['mse'],metrics = [r_square])"
   ]
  },
  {
   "cell_type": "code",
   "execution_count": 130,
   "metadata": {},
   "outputs": [
    {
     "data": {
      "text/plain": [
       "count   8,142,138.00\n",
       "mean          138.30\n",
       "std           285.85\n",
       "min        -1,325.45\n",
       "25%            15.00\n",
       "50%            36.00\n",
       "75%           145.00\n",
       "max        98,400.00\n",
       "Name: FULL_TERM_PREMIUM_COVERAGE, dtype: float64"
      ]
     },
     "execution_count": 130,
     "metadata": {},
     "output_type": "execute_result"
    },
    {
     "name": "stdout",
     "output_type": "stream",
     "text": [
      "time: 829 ms\n"
     ]
    }
   ],
   "source": [
    "train_df.FULL_TERM_PREMIUM_COVERAGE.describe()"
   ]
  },
  {
   "cell_type": "code",
   "execution_count": 57,
   "metadata": {},
   "outputs": [
    {
     "name": "stdout",
     "output_type": "stream",
     "text": [
      "<class 'pandas.core.frame.DataFrame'>\n",
      "Int64Index: 8142138 entries, 90015 to 174538\n",
      "Data columns (total 19 columns):\n",
      "AGE_D1                                 float64\n",
      "POSTAL_CODE                            object\n",
      "COMPANY_CODE                           object\n",
      "COVERAGE_CODE_AUTOMOBILE               object\n",
      "DEDUCTIBLE_AMOUNT                      float64\n",
      "DISTANCE_DRIVEN_ANNUALLY               float64\n",
      "LIMIT_1                                float64\n",
      "VEHICLE_CODE1                          object\n",
      "VEHICLE_RATE_GROUP                     float64\n",
      "DRIVING_AGE                            float64\n",
      "VEHICLE_AGE                            float64\n",
      "MULTICAR_DISCOUNT_INDICATOR            int64\n",
      "DRIVERS_NUM                            float64\n",
      "COVERAGE_CODE_AUTOMOBILE_encoded       int32\n",
      "MULTICAR_DISCOUNT_INDICATOR_encoded    int64\n",
      "VEHICLE_CODE1_encoded                  int32\n",
      "COMPANY_CODE_encoded                   int32\n",
      "POSTAL_CODE_encoded                    int32\n",
      "FULL_TERM_PREMIUM_COVERAGE             float64\n",
      "dtypes: float64(9), int32(4), int64(2), object(4)\n",
      "memory usage: 1.1+ GB\n",
      "time: 6 ms\n"
     ]
    }
   ],
   "source": [
    "train_df.info()"
   ]
  },
  {
   "cell_type": "raw",
   "metadata": {},
   "source": [
    "coverage_df = df[['COVERAGE_CODE_AUTOMOBILE','COVERAGE_CODE_AUTOMOBILE_encoded']].groupby('COVERAGE_CODE_AUTOMOBILE').first().reset_index()\n",
    "coverage_dict = pd.Series(coverage_df.COVERAGE_CODE_AUTOMOBILE_encoded.values,index=coverage_df.COVERAGE_CODE_AUTOMOBILE).to_dict()\n",
    "coverage_dict = pd.DataFrame(list(coverage_dict.items()),columns=['keys','value'])"
   ]
  },
  {
   "cell_type": "raw",
   "metadata": {},
   "source": [
    "multicar_df = df[['MULTICAR_DISCOUNT_INDICATOR','MULTICAR_DISCOUNT_INDICATOR_encoded']].groupby('MULTICAR_DISCOUNT_INDICATOR_encoded').first().reset_index()\n",
    "multicar_dict = pd.Series(multicar_df.MULTICAR_DISCOUNT_INDICATOR_encoded.values,index=multicar_df.MULTICAR_DISCOUNT_INDICATOR).to_dict()\n",
    "multicar_dict = pd.DataFrame(list(multicar_dict.items()),columns=['keys','value'])"
   ]
  },
  {
   "cell_type": "raw",
   "metadata": {},
   "source": [
    "vehicle_df = df[['VEHICLE_CODE1','VEHICLE_CODE1_encoded']].groupby('VEHICLE_CODE1_encoded').first().reset_index()\n",
    "vehicle_dict = pd.Series(vehicle_df.VEHICLE_CODE1_encoded.values,index=vehicle_df.VEHICLE_CODE1).to_dict()\n",
    "vehicle_dict = pd.DataFrame(list(vehicle_dict.items()),columns=['keys','value'])"
   ]
  },
  {
   "cell_type": "raw",
   "metadata": {},
   "source": [
    "company_df = df[['COMPANY_CODE','COMPANY_CODE_encoded']].groupby('COMPANY_CODE_encoded').first().reset_index()\n",
    "company_dict = pd.Series(company_df.COMPANY_CODE_encoded.values,index=company_df.COMPANY_CODE).to_dict()\n",
    "company_dict = pd.DataFrame(list(company_dict.items()),columns=['keys','value'])"
   ]
  },
  {
   "cell_type": "raw",
   "metadata": {},
   "source": [
    "postal_df = df[['POSTAL_CODE','POSTAL_CODE_encoded']].groupby('POSTAL_CODE_encoded').first().reset_index()\n",
    "postal_dict = pd.Series(postal_df.POSTAL_CODE_encoded.values,index=postal_df.POSTAL_CODE).to_dict()\n",
    "postal_dict = pd.DataFrame(list(postal_dict.items()),columns=['keys','value'])"
   ]
  },
  {
   "cell_type": "raw",
   "metadata": {},
   "source": [
    "COVERAGE_CODE_AUTOMOBILE_encoded 125\n",
    "MULTICAR_DISCOUNT_INDICATOR_encoded 2\n",
    "VEHICLE_CODE1_encoded 6772\n",
    "COMPANY_CODE_encoded 55\n",
    "POSTAL_CODE_encoded 179456"
   ]
  },
  {
   "cell_type": "code",
   "execution_count": 88,
   "metadata": {},
   "outputs": [
    {
     "name": "stdout",
     "output_type": "stream",
     "text": [
      "125\n",
      "2\n",
      "6772\n",
      "55\n",
      "179456\n",
      "time: 2 ms\n"
     ]
    }
   ],
   "source": [
    "print(len(coverage_dict))\n",
    "print(len(multicar_dict))\n",
    "print(len(vehicle_dict))\n",
    "print(len(company_dict))\n",
    "print(len(postal_dict))"
   ]
  },
  {
   "cell_type": "code",
   "execution_count": 120,
   "metadata": {},
   "outputs": [
    {
     "name": "stdout",
     "output_type": "stream",
     "text": [
      "time: 12 ms\n"
     ]
    }
   ],
   "source": [
    "f = open(r\"C:\\Users\\john.lan\\Desktop\\coverage_dict.pkl\",\"wb\")\n",
    "pickle.dump(coverage_dict,f)\n",
    "f.close()"
   ]
  },
  {
   "cell_type": "code",
   "execution_count": 121,
   "metadata": {},
   "outputs": [
    {
     "name": "stdout",
     "output_type": "stream",
     "text": [
      "time: 9 ms\n"
     ]
    }
   ],
   "source": [
    "f = open(r\"C:\\Users\\john.lan\\Desktop\\multicar_dict.pkl\",\"wb\")\n",
    "pickle.dump(multicar_dict,f)\n",
    "f.close()"
   ]
  },
  {
   "cell_type": "code",
   "execution_count": 122,
   "metadata": {},
   "outputs": [
    {
     "name": "stdout",
     "output_type": "stream",
     "text": [
      "time: 13 ms\n"
     ]
    }
   ],
   "source": [
    "f = open(r\"C:\\Users\\john.lan\\Desktop\\vehicle_dict.pkl\",\"wb\")\n",
    "pickle.dump(vehicle_dict,f)\n",
    "f.close()"
   ]
  },
  {
   "cell_type": "code",
   "execution_count": 123,
   "metadata": {},
   "outputs": [
    {
     "name": "stdout",
     "output_type": "stream",
     "text": [
      "time: 9 ms\n"
     ]
    }
   ],
   "source": [
    "f = open(r\"C:\\Users\\john.lan\\Desktop\\company_dict.pkl\",\"wb\")\n",
    "pickle.dump(company_dict,f)\n",
    "f.close()"
   ]
  },
  {
   "cell_type": "code",
   "execution_count": 124,
   "metadata": {},
   "outputs": [
    {
     "name": "stdout",
     "output_type": "stream",
     "text": [
      "time: 129 ms\n"
     ]
    }
   ],
   "source": [
    "f = open(r\"C:\\Users\\john.lan\\Desktop\\postal_dict.pkl\",\"wb\")\n",
    "pickle.dump(postal_dict,f)\n",
    "f.close()"
   ]
  },
  {
   "cell_type": "code",
   "execution_count": null,
   "metadata": {},
   "outputs": [
    {
     "name": "stdout",
     "output_type": "stream",
     "text": [
      "StandardScaler(copy=True, with_mean=True, with_std=True)\n",
      "categoricalcolumns:  ['COVERAGE_CODE_AUTOMOBILE_encoded', 'MULTICAR_DISCOUNT_INDICATOR_encoded', 'VEHICLE_CODE1_encoded', 'COMPANY_CODE_encoded', 'POSTAL_CODE_encoded'] \n",
      "\n",
      "Numerical columns:  ['AGE_D1', 'DEDUCTIBLE_AMOUNT', 'DISTANCE_DRIVEN_ANNUALLY', 'LIMIT_1', 'VEHICLE_RATE_GROUP', 'DRIVING_AGE', 'VEHICLE_AGE', 'DRIVERS_NUM', 'FULL_TERM_PREMIUM_COVERAGE'] \n",
      "\n",
      "Xtrain_cat.shape =(8142138, 5) , Xtrain_num.shape =(8142138, 8) , ytrain.shape =(8142138, 1) \n",
      "True\n",
      "True\n",
      "True\n",
      "True\n",
      "True\n",
      "Epoch 1/40\n",
      "8142138/8142138 [==============================] - 542s 67us/step - loss: 0.3038 - r_square: 0.7263\n",
      "Epoch 2/40\n",
      "8142138/8142138 [==============================] - 535s 66us/step - loss: 0.1757 - r_square: 0.8534\n",
      "Epoch 3/40\n",
      "8142138/8142138 [==============================] - 537s 66us/step - loss: 0.1323 - r_square: 0.8941\n",
      "Epoch 4/40\n",
      "8142138/8142138 [==============================] - 533s 65us/step - loss: 0.1078 - r_square: 0.9167\n",
      "Epoch 5/40\n",
      "8142138/8142138 [==============================] - 533s 65us/step - loss: 0.0930 - r_square: 0.9302\n",
      "Epoch 6/40\n",
      "8142138/8142138 [==============================] - 537s 66us/step - loss: 0.0838 - r_square: 0.9380\n",
      "Epoch 7/40\n",
      "8142138/8142138 [==============================] - 531s 65us/step - loss: 0.0763 - r_square: 0.9450\n",
      "Epoch 8/40\n",
      "8142138/8142138 [==============================] - 531s 65us/step - loss: 0.0713 - r_square: 0.9486\n",
      "Epoch 9/40\n",
      "8142138/8142138 [==============================] - 542s 67us/step - loss: 0.0671 - r_square: 0.9522\n",
      "Epoch 10/40\n",
      "8142138/8142138 [==============================] - 531s 65us/step - loss: 0.0647 - r_square: 0.9552\n",
      "Epoch 11/40\n",
      "8142138/8142138 [==============================] - 534s 66us/step - loss: 0.0611 - r_square: 0.9576\n",
      "Epoch 12/40\n",
      "8142138/8142138 [==============================] - 552s 68us/step - loss: 0.0591 - r_square: 0.9591\n",
      "Epoch 13/40\n",
      "8142138/8142138 [==============================] - 542s 67us/step - loss: 0.0573 - r_square: 0.9610\n",
      "Epoch 14/40\n",
      "8142138/8142138 [==============================] - 535s 66us/step - loss: 0.0557 - r_square: 0.9621\n",
      "Epoch 15/40\n",
      "8142138/8142138 [==============================] - 536s 66us/step - loss: 0.0545 - r_square: 0.9631\n",
      "Epoch 16/40\n",
      "8142138/8142138 [==============================] - 533s 65us/step - loss: 0.0530 - r_square: 0.9646\n",
      "Epoch 17/40\n",
      "8142138/8142138 [==============================] - 532s 65us/step - loss: 0.0515 - r_square: 0.9657\n",
      "Epoch 18/40\n",
      "8142138/8142138 [==============================] - 537s 66us/step - loss: 0.0506 - r_square: 0.9664\n",
      "Epoch 19/40\n",
      "8142138/8142138 [==============================] - 534s 66us/step - loss: 0.0501 - r_square: 0.9668\n",
      "Epoch 20/40\n",
      "8142138/8142138 [==============================] - 620s 76us/step - loss: 0.0492 - r_square: 0.9673\n",
      "Epoch 21/40\n",
      "8142138/8142138 [==============================] - 759s 93us/step - loss: 0.0481 - r_square: 0.9681\n",
      "Epoch 22/40\n",
      "8142138/8142138 [==============================] - 708s 87us/step - loss: 0.0478 - r_square: 0.9690\n",
      "Epoch 23/40\n",
      "8142138/8142138 [==============================] - 516s 63us/step - loss: 0.0467 - r_square: 0.9696\n",
      "Epoch 24/40\n",
      "8142138/8142138 [==============================] - 512s 63us/step - loss: 0.0460 - r_square: 0.9698\n",
      "Epoch 25/40\n",
      "8142138/8142138 [==============================] - 508s 62us/step - loss: 0.0455 - r_square: 0.9702\n",
      "Epoch 26/40\n",
      "8142138/8142138 [==============================] - 514s 63us/step - loss: 0.0445 - r_square: 0.9709\n",
      "Epoch 27/40\n",
      "8142138/8142138 [==============================] - 502s 62us/step - loss: 0.0444 - r_square: 0.9709\n",
      "Epoch 28/40\n",
      "8142138/8142138 [==============================] - 504s 62us/step - loss: 0.0436 - r_square: 0.9713\n",
      "Epoch 29/40\n",
      "8142138/8142138 [==============================] - 512s 63us/step - loss: 0.0428 - r_square: 0.9722\n",
      "Epoch 30/40\n",
      "8142138/8142138 [==============================] - 511s 63us/step - loss: 0.0436 - r_square: 0.9715\n",
      "Epoch 31/40\n",
      "8142138/8142138 [==============================] - 509s 62us/step - loss: 0.0429 - r_square: 0.9716\n",
      "Epoch 32/40\n",
      "8142138/8142138 [==============================] - 506s 62us/step - loss: 0.0415 - r_square: 0.9726\n",
      "Epoch 33/40\n",
      "8142138/8142138 [==============================] - 507s 62us/step - loss: 0.0407 - r_square: 0.9736\n",
      "Epoch 34/40\n",
      "8142138/8142138 [==============================] - 502s 62us/step - loss: 0.0406 - r_square: 0.9733\n",
      "Epoch 35/40\n",
      "3219456/8142138 [==========>...................] - ETA: 5:02 - loss: 0.0491 - r_square: 0.9746"
     ]
    }
   ],
   "source": [
    "Xtrain_cat , Xtrain_num , ytrain  , scaler = data_to_model_preparation( data=train_df , \n",
    "                          cat_cols=encoded_cat_cols , num_cols= num_cols , shuffle = True )\n",
    "\n",
    "for col in encoded_cat_cols:\n",
    "    print(np.array_equal(train_df[col] , train_df[col].astype(int)))\n",
    "\n",
    "\n",
    "\n",
    "Xtr = [Xtrain_cat[:,k] for k in range(Xtrain_cat.shape[1])] + [Xtrain_num[:, 0:]]\n",
    "#Xts = [Xtest_cat[:,k] for k in range(Xtest_cat.shape[1])] + [Xtest_num[:, 0:]]\n",
    "\n",
    "#early_stopping = EarlyStopping(monitor='val_loss', patience=10) ## put r2 and val_loss\n",
    "\n",
    "history = model.fit(Xtr , ytrain , batch_size = 2048 , epochs = 40, verbose = 1 )\n"
   ]
  },
  {
   "cell_type": "code",
   "execution_count": null,
   "metadata": {},
   "outputs": [],
   "source": [
    "# serialize model to JSON\n",
    "model_json = model.to_json()\n",
    "with open(r\"C:\\Users\\john.lan\\Desktop\\deep_embedding_training_4.json\", \"w\") as json_file:\n",
    "    json_file.write(model_json)\n",
    "# serialize weights to HDF5\n",
    "model.save_weights(r\"C:\\Users\\john.lan\\Desktop\\deep_embedding_training_4.h5\")\n",
    "print(\"Saved model to disk\")"
   ]
  },
  {
   "cell_type": "raw",
   "metadata": {},
   "source": [
    "StandardScaler(copy=True, with_mean=True, with_std=True)\n",
    "categoricalcolumns:  ['POSTAL_CODE', 'MULTICAR_DISCOUNT_INDICATOR', 'VEHICLE_CODE1', 'COMPANY_CODE', 'COVERAGE_CODE_AUTOMOBILE'] \n",
    "\n",
    "Numerical columns:  ['AGE_D1', 'DEDUCTIBLE_AMOUNT', 'DISTANCE_DRIVEN_ANNUALLY', 'LIMIT_1', 'VEHICLE_RATE_GROUP', 'DRIVING_AGE', 'VEHICLE_AGE', 'DRIVERS_NUM', 'FULL_TERM_PREMIUM_COVERAGE'] \n",
    "\n",
    "Xtrain_cat.shape =(704834, 5) , Xtest_cat.shape =(302072, 5), Xtrain_num.shape =(704834, 8), Xtest_num.shape =(302072, 8) , ytrain.shape =(704834, 1) , ytest.shape =(302072, 1) \n",
    "True\n",
    "True\n",
    "True\n",
    "True\n",
    "True\n",
    "Train on 563867 samples, validate on 140967 samples\n",
    "Epoch 1/5\n",
    "563867/563867 [==============================] - 150s 266us/step - loss: 0.3235 - r_square: 0.6937 - val_loss: 0.2484 - val_r_square: 0.7527\n",
    "Epoch 2/5\n",
    "563867/563867 [==============================] - 141s 250us/step - loss: 0.1808 - r_square: 0.8265 - val_loss: 0.1892 - val_r_square: 0.8193\n",
    "Epoch 3/5\n",
    "563867/563867 [==============================] - 139s 247us/step - loss: 0.1210 - r_square: 0.8807 - val_loss: 0.1784 - val_r_square: 0.8233\n",
    "Epoch 4/5\n",
    "563867/563867 [==============================] - 144s 255us/step - loss: 0.0903 - r_square: 0.9075 - val_loss: 0.1919 - val_r_square: 0.7930\n",
    "Epoch 5/5\n",
    "563867/563867 [==============================] - 139s 247us/step - loss: 0.0712 - r_square: 0.9247 - val_loss: 0.1669 - val_r_square: 0.8341\n",
    "time: 11min 55s"
   ]
  },
  {
   "cell_type": "raw",
   "metadata": {},
   "source": [
    "StandardScaler(copy=True, with_mean=True, with_std=True)\n",
    "categoricalcolumns:  ['POSTAL_CODE', 'MULTICAR_DISCOUNT_INDICATOR', 'COMPANY_CODE', 'VEHICLE_CODE1', 'COVERAGE_CODE_AUTOMOBILE'] \n",
    "\n",
    "Numerical columns:  ['AGE_D1', 'DEDUCTIBLE_AMOUNT', 'DISTANCE_DRIVEN_ANNUALLY', 'LIMIT_1', 'VEHICLE_RATE_GROUP', 'DRIVING_AGE', 'VEHICLE_AGE', 'DRIVERS_NUM'] \n",
    "\n",
    "Xtrain_cat.shape =(723615, 5) , Xtest_cat.shape =(310121, 5), Xtrain_num.shape =(723615, 7), Xtest_num.shape =(310121, 7) , ytrain.shape =(723615, 1) , ytest.shape =(310121, 1) \n",
    "True\n",
    "True\n",
    "True\n",
    "True\n",
    "True\n",
    "Train on 578892 samples, validate on 144723 samples\n",
    "Epoch 1/10\n",
    "578892/578892 [==============================] - 739s 1ms/step - loss: 0.1877 - val_loss: 0.1175\n",
    "Epoch 2/10\n",
    "578892/578892 [==============================] - 721s 1ms/step - loss: 0.0955 - val_loss: 0.0766\n",
    "Epoch 3/10\n",
    "578892/578892 [==============================] - 724s 1ms/step - loss: 0.0654 - val_loss: 0.0623\n",
    "Epoch 4/10\n",
    "578892/578892 [==============================] - 757s 1ms/step - loss: 0.0513 - val_loss: 0.0517\n",
    "Epoch 5/10\n",
    "578892/578892 [==============================] - 741s 1ms/step - loss: 0.0446 - val_loss: 0.0460\n",
    "Epoch 6/10\n",
    "578892/578892 [==============================] - 714s 1ms/step - loss: 0.0387 - val_loss: 0.0401\n",
    "Epoch 7/10\n",
    "578892/578892 [==============================] - 743s 1ms/step - loss: 0.0343 - val_loss: 0.0373\n",
    "Epoch 8/10\n",
    "578892/578892 [==============================] - 760s 1ms/step - loss: 0.0310 - val_loss: 0.0353\n",
    "Epoch 9/10\n",
    "578892/578892 [==============================] - 736s 1ms/step - loss: 0.0278 - val_loss: 0.0313\n",
    "Epoch 10/10\n",
    "578892/578892 [==============================] - 699s 1ms/step - loss: 0.0253 - val_loss: 0.0290\n",
    "time: 2h 2min 14s\n"
   ]
  },
  {
   "cell_type": "code",
   "execution_count": 127,
   "metadata": {},
   "outputs": [
    {
     "data": {
      "text/plain": [
       "138.30303879429067"
      ]
     },
     "execution_count": 127,
     "metadata": {},
     "output_type": "execute_result"
    },
    {
     "name": "stdout",
     "output_type": "stream",
     "text": [
      "time: 4.04 ms\n"
     ]
    }
   ],
   "source": [
    "mn  = scaler.mean_[-1] \n",
    "mn"
   ]
  },
  {
   "cell_type": "code",
   "execution_count": 131,
   "metadata": {},
   "outputs": [
    {
     "data": {
      "text/plain": [
       "StandardScaler(copy=True, with_mean=True, with_std=True)"
      ]
     },
     "execution_count": 131,
     "metadata": {},
     "output_type": "execute_result"
    },
    {
     "name": "stdout",
     "output_type": "stream",
     "text": [
      "time: 2.98 ms\n"
     ]
    }
   ],
   "source": [
    "scaler"
   ]
  },
  {
   "cell_type": "code",
   "execution_count": 132,
   "metadata": {},
   "outputs": [
    {
     "data": {
      "text/plain": [
       "285.8540882020679"
      ]
     },
     "execution_count": 132,
     "metadata": {},
     "output_type": "execute_result"
    },
    {
     "name": "stdout",
     "output_type": "stream",
     "text": [
      "time: 2.99 ms\n"
     ]
    }
   ],
   "source": []
  },
  {
   "cell_type": "code",
   "execution_count": 128,
   "metadata": {},
   "outputs": [
    {
     "data": {
      "text/plain": [
       "285.8540882020679"
      ]
     },
     "execution_count": 128,
     "metadata": {},
     "output_type": "execute_result"
    },
    {
     "name": "stdout",
     "output_type": "stream",
     "text": [
      "time: 2.99 ms\n"
     ]
    }
   ],
   "source": [
    "scale  = scaler.scale_[-1]\n",
    "scale"
   ]
  },
  {
   "cell_type": "code",
   "execution_count": 29,
   "metadata": {},
   "outputs": [
    {
     "name": "stdout",
     "output_type": "stream",
     "text": [
      "0.9674572023713434 0.9885359261314155\n",
      "time: 7.2 s\n"
     ]
    }
   ],
   "source": [
    "preds = model.predict(Xts)\n",
    "\n",
    "print(1-(np.mean(np.square(preds - ytest))/np.var(ytest)), np.var(ytest))\n",
    "\n",
    "# 0.9830499349825353 1.0002365561527946\n",
    "# time: 21.7 s\n",
    "# 0.825348875891685 1.0122958655371341\n",
    "# time: 49.5 s"
   ]
  },
  {
   "cell_type": "code",
   "execution_count": 133,
   "metadata": {},
   "outputs": [
    {
     "name": "stdout",
     "output_type": "stream",
     "text": [
      "Model_MSE = 3159.4740374503385 ; target_VAR = 81712.55974183559 \n",
      "\n",
      "inData_MAE = 157.29299587755122 ; model_MAE = 17.279047452360434 ; model_R_Square = 0.9613342912346345 \n",
      "\n",
      "time: 3min 25s\n"
     ]
    }
   ],
   "source": [
    "_,_,_ = model_statistics(model, Xtst=Xtr, ytst= ytrain, scaler= scaler)\n",
    "\n",
    "# Model_MSE = 0.01338294773984117 ; target_VAR = 0.7895514010379386 \n",
    "\n",
    "# inData_MAE = 0.6252041419312583 ; model_MAE = 0.036451583305443305 ; model_R_Square = 0.9830499347829058 \n",
    "\n",
    "# time: 21.3 s"
   ]
  },
  {
   "cell_type": "code",
   "execution_count": 90,
   "metadata": {},
   "outputs": [
    {
     "name": "stdout",
     "output_type": "stream",
     "text": [
      "time: 31.4 s\n"
     ]
    }
   ],
   "source": [
    "mn  = scaler.mean_[-1] \n",
    "scale  = scaler.scale_[-1] \n",
    "preditions = model.predict(Xts)*scale+mn"
   ]
  },
  {
   "cell_type": "code",
   "execution_count": 91,
   "metadata": {},
   "outputs": [
    {
     "data": {
      "text/plain": [
       "array([[   3.2137299],\n",
       "       [ 283.40942  ],\n",
       "       [2357.35     ],\n",
       "       ...,\n",
       "       [   8.882996 ],\n",
       "       [  41.726547 ],\n",
       "       [  43.18853  ]], dtype=float32)"
      ]
     },
     "execution_count": 91,
     "metadata": {},
     "output_type": "execute_result"
    },
    {
     "name": "stdout",
     "output_type": "stream",
     "text": [
      "time: 3 ms\n"
     ]
    }
   ],
   "source": [
    "preditions"
   ]
  },
  {
   "cell_type": "code",
   "execution_count": 92,
   "metadata": {},
   "outputs": [
    {
     "data": {
      "text/plain": [
       "array([[  13.],\n",
       "       [ 393.],\n",
       "       [2638.],\n",
       "       ...,\n",
       "       [   0.],\n",
       "       [  75.],\n",
       "       [  72.]])"
      ]
     },
     "execution_count": 92,
     "metadata": {},
     "output_type": "execute_result"
    },
    {
     "name": "stdout",
     "output_type": "stream",
     "text": [
      "time: 35 ms\n"
     ]
    }
   ],
   "source": [
    "ytest*scale+mn"
   ]
  }
 ],
 "metadata": {
  "kernelspec": {
   "display_name": "Python 3",
   "language": "python",
   "name": "python3"
  },
  "language_info": {
   "codemirror_mode": {
    "name": "ipython",
    "version": 3
   },
   "file_extension": ".py",
   "mimetype": "text/x-python",
   "name": "python",
   "nbconvert_exporter": "python",
   "pygments_lexer": "ipython3",
   "version": "3.6.9"
  }
 },
 "nbformat": 4,
 "nbformat_minor": 4
}
